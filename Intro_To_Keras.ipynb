{
 "cells": [
  {
   "cell_type": "markdown",
   "metadata": {},
   "source": [
    "# Welcome to A Gentle Introduction to Keras"
   ]
  },
  {
   "cell_type": "markdown",
   "metadata": {},
   "source": [
    "This course focuses on a specific sub-field of machine learning called <b>predictive modeling.</b>\n",
    "<p>Within predicitve modeling is a speciality or another sub-field called <b>deep learning.</b></p>\n",
    "<p>We will be crafting deep learning models with a library called Keras.</p>\n",
    "<p><b>Predictive modeling</b> is focused on developing models that make accurate predictions at the expense of explaining why predictions are made.</p>\n",
    "<p>You and I don't need to be able to write a binary classification model. We need to know how to use and interpret the results of the model.</p>"
   ]
  },
  {
   "cell_type": "markdown",
   "metadata": {},
   "source": [
    "<b>Where does machine learning fit into data science?</b>\n",
    "<p>Data science is a much broader discipline.</p>\n",
    "\n",
    "<p>Data Scientists take the raw data, analyse it, connect the dots and tell a story often via several visualizations. They usually have a broader range of skill-set and may not have too much depth into more than one or two. They are more on the creative side. Like an Artist. An Engineer, on the other hand, is someone who looks at the data as something they have to take in and churn out an output in some appropriate form in the most efficient way possible. The implementation details and other efficiency hacks are usually on the tip of their fingers. There can be a lot of overlap between the two but it is more like A Data Scientist is a Machine Learning Engineer but not the other way round. -- Ria Chakraborty, Data Scientist</p>"
   ]
  },
  {
   "cell_type": "markdown",
   "metadata": {},
   "source": [
    "# Step 1. Import our modules"
   ]
  },
  {
   "cell_type": "markdown",
   "metadata": {},
   "source": [
    "<p>Two important points here. Firstly, the <b>from</b> means we aren't importing the entire library, only a specific module. Secondly, notice we<b> are</b> imporing the entire numpy library.</p>\n",
    "<p>If you get a message that states: WARNING (theano.configdefaults): g++ not detected, blah... blah. Run this in your Anaconda prompt.</p>\n",
    "<p>conda install mingw libpython</p>"
   ]
  },
  {
   "cell_type": "code",
   "execution_count": 1,
   "metadata": {
    "collapsed": false
   },
   "outputs": [
    {
     "name": "stderr",
     "output_type": "stream",
     "text": [
      "Using TensorFlow backend.\n"
     ]
    }
   ],
   "source": [
    "from keras.models import Sequential\n",
    "from keras.layers import Dense\n",
    "import numpy"
   ]
  },
  {
   "cell_type": "markdown",
   "metadata": {},
   "source": [
    "# Step 2. Set our random seed"
   ]
  },
  {
   "cell_type": "markdown",
   "metadata": {},
   "source": [
    "<p>Run an algorithm on a dataset and you've built a great model. Can you produce the same model again given the same data? You should be able to. It should be a requirement that is high on the list for your modeling project.</p>\n",
    "<p>We achieve reproducibility in applied machine learning by using the exact same code, data and sequence of random numbers.</p>\n",
    "<p>Random numbers are created using a random number generator. It’s a simple program that generates a sequence of numbers that are random enough for most applications.</p>\n",
    "<p>This math function is deterministic. If it uses the same starting point called a seed number, it will give the same sequence of random numbers.</p>\n",
    "<p>Hold on... what's<b> deterministic</b> mean?</p>\n",
    "<p>\"a deterministic algorithm is an algorithm which, given a particular input, will always produce the same output, with the underlying machine always passing through the same sequence of states\"</p>\n",
    "\n",
    "<p>Let's apply an English translator to this:</p>\n",
    "<p><b>The only purpose of seeding</b> is to make sure that you get the <b>exact same result</b> when you run this code many times on the exact same data.</p>"
   ]
  },
  {
   "cell_type": "code",
   "execution_count": 2,
   "metadata": {
    "collapsed": true
   },
   "outputs": [],
   "source": [
    "seed = 9\n",
    "numpy.random.seed(seed)"
   ]
  },
  {
   "cell_type": "markdown",
   "metadata": {},
   "source": [
    "# Step 3. Import our data set"
   ]
  },
  {
   "cell_type": "markdown",
   "metadata": {},
   "source": [
    "\n",
    "Let's import the object called read_csv.\n",
    "\n",
    "We define a variable called filename and put our data set in it.\n",
    "\n",
    "The last line does the work. It using the function called<b> read_csv</b> to put the contents of our data set into a variable called dataframe."
   ]
  },
  {
   "cell_type": "code",
   "execution_count": 4,
   "metadata": {
    "collapsed": true
   },
   "outputs": [],
   "source": [
    "from pandas import read_csv\n",
    "filename = 'https://raw.githubusercontent.com/Pratster95/Intro-To-Keras/master/BBCN.csv'\n",
    "dataframe = read_csv(filename)"
   ]
  },
  {
   "cell_type": "markdown",
   "metadata": {},
   "source": [
    "# Step 4. Split the Output Variables"
   ]
  },
  {
   "cell_type": "markdown",
   "metadata": {},
   "source": [
    "The first thing we need to do is put our data in an array.\n",
    "\n",
    "An array is a data structure that stores values of <b>same data type.</b>\n",
    "\n",
    "In Python, this is the main difference between arrays and lists. While python lists can contain values corresponding to different data types, arrays in python can only contain values corresponding to same data type."
   ]
  },
  {
   "cell_type": "code",
   "execution_count": 5,
   "metadata": {
    "collapsed": true
   },
   "outputs": [],
   "source": [
    "array = dataframe.values"
   ]
  },
  {
   "cell_type": "markdown",
   "metadata": {},
   "source": [
    "The code below is the trickest part of the exercise. Now, we are assinging X and y as output variables.\n",
    "\n",
    "That looks pretty easy but keep in mind that an array starts at 0.\n",
    "\n",
    "If you take a look at the shape of our dataframe (shape means the number of columns and rows) you can see we have 12 rows.\n",
    "\n",
    "On the X array below we saying... include all items in the array from 0 to 11.\n",
    "\n",
    "On the y array below we are saying... just use the column in the array mapped to the <b>11th row</b>. The <b>BikeBuyer column</b>.\n",
    "\n",
    "Before we split X and Y out we are going to put them in an array."
   ]
  },
  {
   "cell_type": "code",
   "execution_count": 6,
   "metadata": {
    "collapsed": true
   },
   "outputs": [],
   "source": [
    "X = array[:,0:11] \n",
    "Y = array[:,11]"
   ]
  },
  {
   "cell_type": "code",
   "execution_count": 7,
   "metadata": {
    "collapsed": true
   },
   "outputs": [
    {
     "data": {
      "text/html": [
       "<div>\n",
       "<style scoped>\n",
       "    .dataframe tbody tr th:only-of-type {\n",
       "        vertical-align: middle;\n",
       "    }\n",
       "\n",
       "    .dataframe tbody tr th {\n",
       "        vertical-align: top;\n",
       "    }\n",
       "\n",
       "    .dataframe thead th {\n",
       "        text-align: right;\n",
       "    }\n",
       "</style>\n",
       "<table border=\"1\" class=\"dataframe\">\n",
       "  <thead>\n",
       "    <tr style=\"text-align: right;\">\n",
       "      <th></th>\n",
       "      <th>MaritalStatus</th>\n",
       "      <th>Gender</th>\n",
       "      <th>YearlyIncome</th>\n",
       "      <th>TotalChildren</th>\n",
       "      <th>NumberChildrenAtHome</th>\n",
       "      <th>EnglishEducation</th>\n",
       "      <th>HouseOwnerFlag</th>\n",
       "      <th>NumberCarsOwned</th>\n",
       "      <th>CommuteDistance</th>\n",
       "      <th>Region</th>\n",
       "      <th>Age</th>\n",
       "      <th>BikeBuyer</th>\n",
       "    </tr>\n",
       "  </thead>\n",
       "  <tbody>\n",
       "    <tr>\n",
       "      <th>0</th>\n",
       "      <td>5</td>\n",
       "      <td>1</td>\n",
       "      <td>9.0</td>\n",
       "      <td>2</td>\n",
       "      <td>0</td>\n",
       "      <td>5</td>\n",
       "      <td>1</td>\n",
       "      <td>0</td>\n",
       "      <td>2</td>\n",
       "      <td>2</td>\n",
       "      <td>5</td>\n",
       "      <td>1</td>\n",
       "    </tr>\n",
       "    <tr>\n",
       "      <th>1</th>\n",
       "      <td>5</td>\n",
       "      <td>1</td>\n",
       "      <td>6.0</td>\n",
       "      <td>3</td>\n",
       "      <td>3</td>\n",
       "      <td>5</td>\n",
       "      <td>0</td>\n",
       "      <td>1</td>\n",
       "      <td>1</td>\n",
       "      <td>2</td>\n",
       "      <td>4</td>\n",
       "      <td>1</td>\n",
       "    </tr>\n",
       "    <tr>\n",
       "      <th>2</th>\n",
       "      <td>5</td>\n",
       "      <td>1</td>\n",
       "      <td>6.0</td>\n",
       "      <td>3</td>\n",
       "      <td>3</td>\n",
       "      <td>5</td>\n",
       "      <td>1</td>\n",
       "      <td>1</td>\n",
       "      <td>5</td>\n",
       "      <td>2</td>\n",
       "      <td>4</td>\n",
       "      <td>1</td>\n",
       "    </tr>\n",
       "    <tr>\n",
       "      <th>3</th>\n",
       "      <td>5</td>\n",
       "      <td>2</td>\n",
       "      <td>7.0</td>\n",
       "      <td>0</td>\n",
       "      <td>0</td>\n",
       "      <td>5</td>\n",
       "      <td>0</td>\n",
       "      <td>1</td>\n",
       "      <td>10</td>\n",
       "      <td>2</td>\n",
       "      <td>5</td>\n",
       "      <td>1</td>\n",
       "    </tr>\n",
       "    <tr>\n",
       "      <th>4</th>\n",
       "      <td>5</td>\n",
       "      <td>2</td>\n",
       "      <td>8.0</td>\n",
       "      <td>5</td>\n",
       "      <td>5</td>\n",
       "      <td>5</td>\n",
       "      <td>1</td>\n",
       "      <td>4</td>\n",
       "      <td>2</td>\n",
       "      <td>2</td>\n",
       "      <td>5</td>\n",
       "      <td>1</td>\n",
       "    </tr>\n",
       "  </tbody>\n",
       "</table>\n",
       "</div>"
      ],
      "text/plain": [
       "   MaritalStatus  Gender  YearlyIncome  TotalChildren  NumberChildrenAtHome  \\\n",
       "0              5       1           9.0              2                     0   \n",
       "1              5       1           6.0              3                     3   \n",
       "2              5       1           6.0              3                     3   \n",
       "3              5       2           7.0              0                     0   \n",
       "4              5       2           8.0              5                     5   \n",
       "\n",
       "   EnglishEducation  HouseOwnerFlag  NumberCarsOwned  CommuteDistance  Region  \\\n",
       "0                 5               1                0                2       2   \n",
       "1                 5               0                1                1       2   \n",
       "2                 5               1                1                5       2   \n",
       "3                 5               0                1               10       2   \n",
       "4                 5               1                4                2       2   \n",
       "\n",
       "   Age  BikeBuyer  \n",
       "0    5          1  \n",
       "1    4          1  \n",
       "2    4          1  \n",
       "3    5          1  \n",
       "4    5          1  "
      ]
     },
     "execution_count": 7,
     "metadata": {},
     "output_type": "execute_result"
    }
   ],
   "source": [
    "dataframe.head()"
   ]
  },
  {
   "cell_type": "markdown",
   "metadata": {},
   "source": [
    "# Step 4. Build the Model"
   ]
  },
  {
   "cell_type": "markdown",
   "metadata": {},
   "source": [
    "We can piece it all together by adding each layer.\n",
    "\n",
    "The first layer has 11 neurons and expects 11 input variables.\n",
    "\n",
    "The second hidden layer has 8 neurons.\n",
    "\n",
    "The third hidden layer has 8 neurons.\n",
    "\n",
    "The output layer has 1 neuron to predict the class.\n",
    "\n",
    "How many hidden layers are in our model?"
   ]
  },
  {
   "cell_type": "code",
   "execution_count": 23,
   "metadata": {
    "collapsed": true
   },
   "outputs": [
    {
     "name": "stderr",
     "output_type": "stream",
     "text": [
      "/home/jupyterlab/conda/lib/python3.6/site-packages/ipykernel_launcher.py:2: UserWarning: Update your `Dense` call to the Keras 2 API: `Dense(12, input_dim=11, activation=\"relu\", kernel_initializer=\"uniform\")`\n",
      "  \n",
      "/home/jupyterlab/conda/lib/python3.6/site-packages/ipykernel_launcher.py:3: UserWarning: Update your `Dense` call to the Keras 2 API: `Dense(8, activation=\"relu\", kernel_initializer=\"uniform\")`\n",
      "  This is separate from the ipykernel package so we can avoid doing imports until\n",
      "/home/jupyterlab/conda/lib/python3.6/site-packages/ipykernel_launcher.py:4: UserWarning: Update your `Dense` call to the Keras 2 API: `Dense(1, activation=\"sigmoid\", kernel_initializer=\"uniform\")`\n",
      "  after removing the cwd from sys.path.\n"
     ]
    }
   ],
   "source": [
    "model = Sequential()\n",
    "model.add(Dense(12, input_dim=11, init='uniform', activation='relu'))\n",
    "model.add(Dense(8, init='uniform', activation='relu'))\n",
    "model.add(Dense(1, init='uniform', activation='sigmoid'))"
   ]
  },
  {
   "cell_type": "markdown",
   "metadata": {},
   "source": [
    "# Step 5. Compile the Model"
   ]
  },
  {
   "cell_type": "markdown",
   "metadata": {},
   "source": [
    "\n",
    "A metric is a function that is used to judge the performance of your model. Metric functions are to be supplied in the metrics parameter when a model is compiled.\n",
    "\n",
    "Lastly, we set the cost (or loss) function to categorical_crossentropy. The (binary) cross-entropy is just the technical term for the <b>cost function </b>in logistic regression, and the categorical cross-entropy is its generalization for multi-class predictions via softmax\n",
    "\n",
    "Binary learning models are models which just predict one of two outcomes: positive or negative. These models are very well suited to drive decisions, such as whether to administer a patient a certain drug or to include a lead in a targeted marketing campaign.\n",
    "\n",
    "Accuracy is perhaps the most intuitive performance measure.<b> It is simply the ratio of correctly predicted observations</b>.\n",
    "\n",
    "Using accuracy is only good for symmetric data sets where the class distribution is 50/50 and the cost of false positives and false negatives are roughly the same. In our case our classes are balanced.\n",
    "\n",
    "Whenever you train a model with your data, you are actually producing some new values (predicted) for a specific feature. However, that specific feature already has some values which are real values in the dataset.\n",
    "\n",
    "We know the the closer the predicted values to their corresponding real values, the better the model.\n",
    "\n",
    "We are using cost function to measure <b>how close the predicted values are to their corresponding real values</b>.\n",
    "\n",
    "So, for our model we choose binary_crossentropy."
   ]
  },
  {
   "cell_type": "code",
   "execution_count": 24,
   "metadata": {
    "collapsed": true
   },
   "outputs": [],
   "source": [
    "model.compile(loss='binary_crossentropy', optimizer='adam', metrics=['accuracy'])"
   ]
  },
  {
   "cell_type": "markdown",
   "metadata": {},
   "source": [
    "# Step 6. Fit the Model"
   ]
  },
  {
   "cell_type": "markdown",
   "metadata": {},
   "source": [
    "<b>Epoch:</b> A full pass over all of your training data.\n",
    "\n",
    "For example, let's say you have 1213 observations. So an epoch concludes when it has finished a training pass over all 1213 of your observations.\n",
    "\n",
    "What you'd expect to see from running fit on your Keras model, is a decrease in loss over n number of epochs.\n",
    "\n",
    "batch_size denotes the subset size of your training sample (e.g. 100 out of 1000) which is going to be used in order to train the network during its learning process.\n",
    "\n",
    "Each batch trains network in a successive order, taking into account the updated weights coming from the appliance of the previous batch.\n",
    "\n",
    "Example: if you have 1000 training examples, and your batch size is 500, then it will take 2 iterations to complete 1 epoch"
   ]
  },
  {
   "cell_type": "code",
   "execution_count": 49,
   "metadata": {
    "collapsed": true
   },
   "outputs": [
    {
     "name": "stdout",
     "output_type": "stream",
     "text": [
      "Epoch 1/200\n",
      "500/500 [==============================] - 0s 111us/step - loss: 0.3469 - acc: 0.7880\n",
      "Epoch 2/200\n",
      "500/500 [==============================] - 0s 194us/step - loss: 0.3412 - acc: 0.7940\n",
      "Epoch 3/200\n",
      "500/500 [==============================] - 0s 104us/step - loss: 0.3346 - acc: 0.7920\n",
      "Epoch 4/200\n",
      "500/500 [==============================] - 0s 88us/step - loss: 0.3317 - acc: 0.7980\n",
      "Epoch 5/200\n",
      "500/500 [==============================] - 0s 83us/step - loss: 0.3400 - acc: 0.7900\n",
      "Epoch 6/200\n",
      "500/500 [==============================] - 0s 124us/step - loss: 0.3364 - acc: 0.7940\n",
      "Epoch 7/200\n",
      "500/500 [==============================] - 0s 93us/step - loss: 0.3372 - acc: 0.7960\n",
      "Epoch 8/200\n",
      "500/500 [==============================] - 0s 141us/step - loss: 0.3431 - acc: 0.7820\n",
      "Epoch 9/200\n",
      "500/500 [==============================] - 0s 173us/step - loss: 0.3388 - acc: 0.7940\n",
      "Epoch 10/200\n",
      "500/500 [==============================] - 0s 163us/step - loss: 0.3473 - acc: 0.7860\n",
      "Epoch 11/200\n",
      "500/500 [==============================] - 0s 104us/step - loss: 0.3390 - acc: 0.7960\n",
      "Epoch 12/200\n",
      "500/500 [==============================] - 0s 101us/step - loss: 0.3338 - acc: 0.7980\n",
      "Epoch 13/200\n",
      "500/500 [==============================] - 0s 90us/step - loss: 0.3396 - acc: 0.7920\n",
      "Epoch 14/200\n",
      "500/500 [==============================] - 0s 89us/step - loss: 0.3412 - acc: 0.7840\n",
      "Epoch 15/200\n",
      "500/500 [==============================] - 0s 115us/step - loss: 0.3384 - acc: 0.7940\n",
      "Epoch 16/200\n",
      "500/500 [==============================] - 0s 174us/step - loss: 0.3348 - acc: 0.7980\n",
      "Epoch 17/200\n",
      "500/500 [==============================] - 0s 110us/step - loss: 0.3381 - acc: 0.7900\n",
      "Epoch 18/200\n",
      "500/500 [==============================] - 0s 97us/step - loss: 0.3363 - acc: 0.7940\n",
      "Epoch 19/200\n",
      "500/500 [==============================] - 0s 106us/step - loss: 0.3352 - acc: 0.7940\n",
      "Epoch 20/200\n",
      "500/500 [==============================] - 0s 95us/step - loss: 0.3342 - acc: 0.7960\n",
      "Epoch 21/200\n",
      "500/500 [==============================] - 0s 158us/step - loss: 0.3353 - acc: 0.8000\n",
      "Epoch 22/200\n",
      "500/500 [==============================] - 0s 131us/step - loss: 0.3364 - acc: 0.7860\n",
      "Epoch 23/200\n",
      "500/500 [==============================] - 0s 106us/step - loss: 0.3363 - acc: 0.7940\n",
      "Epoch 24/200\n",
      "500/500 [==============================] - 0s 119us/step - loss: 0.3375 - acc: 0.7880\n",
      "Epoch 25/200\n",
      "500/500 [==============================] - 0s 101us/step - loss: 0.3377 - acc: 0.7900\n",
      "Epoch 26/200\n",
      "500/500 [==============================] - 0s 90us/step - loss: 0.3331 - acc: 0.7960\n",
      "Epoch 27/200\n",
      "500/500 [==============================] - 0s 102us/step - loss: 0.3390 - acc: 0.7920\n",
      "Epoch 28/200\n",
      "500/500 [==============================] - 0s 234us/step - loss: 0.3369 - acc: 0.7960\n",
      "Epoch 29/200\n",
      "500/500 [==============================] - 0s 155us/step - loss: 0.3359 - acc: 0.7940\n",
      "Epoch 30/200\n",
      "500/500 [==============================] - 0s 142us/step - loss: 0.3423 - acc: 0.7860\n",
      "Epoch 31/200\n",
      "500/500 [==============================] - 0s 96us/step - loss: 0.3350 - acc: 0.7920\n",
      "Epoch 32/200\n",
      "500/500 [==============================] - 0s 84us/step - loss: 0.3421 - acc: 0.7900\n",
      "Epoch 33/200\n",
      "500/500 [==============================] - 0s 214us/step - loss: 0.3400 - acc: 0.7940\n",
      "Epoch 34/200\n",
      "500/500 [==============================] - 0s 135us/step - loss: 0.3394 - acc: 0.7900\n",
      "Epoch 35/200\n",
      "500/500 [==============================] - 0s 93us/step - loss: 0.3388 - acc: 0.7940\n",
      "Epoch 36/200\n",
      "500/500 [==============================] - 0s 140us/step - loss: 0.3359 - acc: 0.7960\n",
      "Epoch 37/200\n",
      "500/500 [==============================] - 0s 136us/step - loss: 0.3339 - acc: 0.7980\n",
      "Epoch 38/200\n",
      "500/500 [==============================] - 0s 159us/step - loss: 0.3428 - acc: 0.7880\n",
      "Epoch 39/200\n",
      "500/500 [==============================] - 0s 320us/step - loss: 0.3350 - acc: 0.7920\n",
      "Epoch 40/200\n",
      "500/500 [==============================] - 0s 143us/step - loss: 0.3318 - acc: 0.7980\n",
      "Epoch 41/200\n",
      "500/500 [==============================] - 0s 98us/step - loss: 0.3348 - acc: 0.7900\n",
      "Epoch 42/200\n",
      "500/500 [==============================] - 0s 86us/step - loss: 0.3333 - acc: 0.7920\n",
      "Epoch 43/200\n",
      "500/500 [==============================] - 0s 109us/step - loss: 0.3360 - acc: 0.7920\n",
      "Epoch 44/200\n",
      "500/500 [==============================] - 0s 309us/step - loss: 0.3410 - acc: 0.7860\n",
      "Epoch 45/200\n",
      "500/500 [==============================] - 0s 178us/step - loss: 0.3307 - acc: 0.7960\n",
      "Epoch 46/200\n",
      "500/500 [==============================] - 0s 99us/step - loss: 0.3314 - acc: 0.8000\n",
      "Epoch 47/200\n",
      "500/500 [==============================] - 0s 89us/step - loss: 0.3337 - acc: 0.7860\n",
      "Epoch 48/200\n",
      "500/500 [==============================] - 0s 127us/step - loss: 0.3343 - acc: 0.7940\n",
      "Epoch 49/200\n",
      "500/500 [==============================] - 0s 149us/step - loss: 0.3306 - acc: 0.8000\n",
      "Epoch 50/200\n",
      "500/500 [==============================] - 0s 121us/step - loss: 0.3337 - acc: 0.7940\n",
      "Epoch 51/200\n",
      "500/500 [==============================] - 0s 118us/step - loss: 0.3351 - acc: 0.8000\n",
      "Epoch 52/200\n",
      "500/500 [==============================] - 0s 103us/step - loss: 0.3340 - acc: 0.7940\n",
      "Epoch 53/200\n",
      "500/500 [==============================] - 0s 94us/step - loss: 0.3416 - acc: 0.7860\n",
      "Epoch 54/200\n",
      "500/500 [==============================] - 0s 89us/step - loss: 0.3464 - acc: 0.7980\n",
      "Epoch 55/200\n",
      "500/500 [==============================] - 0s 185us/step - loss: 0.3363 - acc: 0.7960\n",
      "Epoch 56/200\n",
      "500/500 [==============================] - 0s 148us/step - loss: 0.3361 - acc: 0.7880\n",
      "Epoch 57/200\n",
      "500/500 [==============================] - 0s 107us/step - loss: 0.3401 - acc: 0.7900\n",
      "Epoch 58/200\n",
      "500/500 [==============================] - 0s 110us/step - loss: 0.3422 - acc: 0.7940\n",
      "Epoch 59/200\n",
      "500/500 [==============================] - 0s 105us/step - loss: 0.3365 - acc: 0.7940\n",
      "Epoch 60/200\n",
      "500/500 [==============================] - 0s 92us/step - loss: 0.3342 - acc: 0.7960\n",
      "Epoch 61/200\n",
      "500/500 [==============================] - 0s 103us/step - loss: 0.3380 - acc: 0.7920\n",
      "Epoch 62/200\n",
      "500/500 [==============================] - 0s 215us/step - loss: 0.3359 - acc: 0.7980\n",
      "Epoch 63/200\n",
      "500/500 [==============================] - 0s 194us/step - loss: 0.3371 - acc: 0.7980\n",
      "Epoch 64/200\n",
      "500/500 [==============================] - 0s 177us/step - loss: 0.3904 - acc: 0.7820\n",
      "Epoch 65/200\n",
      "500/500 [==============================] - 0s 109us/step - loss: 0.3825 - acc: 0.7760\n",
      "Epoch 66/200\n",
      "500/500 [==============================] - 0s 158us/step - loss: 0.3486 - acc: 0.7920\n",
      "Epoch 67/200\n",
      "500/500 [==============================] - 0s 152us/step - loss: 0.3372 - acc: 0.7960\n",
      "Epoch 68/200\n",
      "500/500 [==============================] - 0s 92us/step - loss: 0.3349 - acc: 0.8000\n",
      "Epoch 69/200\n",
      "500/500 [==============================] - 0s 93us/step - loss: 0.3369 - acc: 0.7960\n",
      "Epoch 70/200\n",
      "500/500 [==============================] - 0s 118us/step - loss: 0.3412 - acc: 0.7980\n",
      "Epoch 71/200\n",
      "500/500 [==============================] - 0s 103us/step - loss: 0.3395 - acc: 0.7880\n",
      "Epoch 72/200\n",
      "500/500 [==============================] - 0s 96us/step - loss: 0.3386 - acc: 0.7920\n",
      "Epoch 73/200\n",
      "500/500 [==============================] - 0s 120us/step - loss: 0.3328 - acc: 0.7940\n",
      "Epoch 74/200\n",
      "500/500 [==============================] - 0s 146us/step - loss: 0.3342 - acc: 0.7940\n",
      "Epoch 75/200\n",
      "500/500 [==============================] - 0s 144us/step - loss: 0.3311 - acc: 0.7960\n",
      "Epoch 76/200\n",
      "500/500 [==============================] - 0s 89us/step - loss: 0.3353 - acc: 0.7920\n",
      "Epoch 77/200\n",
      "500/500 [==============================] - 0s 100us/step - loss: 0.3371 - acc: 0.7960\n",
      "Epoch 78/200\n",
      "500/500 [==============================] - 0s 101us/step - loss: 0.3339 - acc: 0.7960\n",
      "Epoch 79/200\n",
      "500/500 [==============================] - 0s 97us/step - loss: 0.3327 - acc: 0.7900\n",
      "Epoch 80/200\n",
      "500/500 [==============================] - 0s 218us/step - loss: 0.3349 - acc: 0.7940\n",
      "Epoch 81/200\n",
      "500/500 [==============================] - 0s 148us/step - loss: 0.3405 - acc: 0.7860\n",
      "Epoch 82/200\n",
      "500/500 [==============================] - 0s 126us/step - loss: 0.3342 - acc: 0.7980\n",
      "Epoch 83/200\n",
      "500/500 [==============================] - 0s 88us/step - loss: 0.3546 - acc: 0.7820\n",
      "Epoch 84/200\n",
      "500/500 [==============================] - 0s 78us/step - loss: 0.3347 - acc: 0.7960\n",
      "Epoch 85/200\n",
      "500/500 [==============================] - 0s 95us/step - loss: 0.3401 - acc: 0.7980\n",
      "Epoch 86/200\n",
      "500/500 [==============================] - 0s 120us/step - loss: 0.3388 - acc: 0.7880\n",
      "Epoch 87/200\n",
      "500/500 [==============================] - 0s 119us/step - loss: 0.3357 - acc: 0.7940\n",
      "Epoch 88/200\n",
      "500/500 [==============================] - 0s 92us/step - loss: 0.3308 - acc: 0.7940\n",
      "Epoch 89/200\n",
      "500/500 [==============================] - 0s 122us/step - loss: 0.3364 - acc: 0.7920\n",
      "Epoch 90/200\n",
      "500/500 [==============================] - 0s 91us/step - loss: 0.3308 - acc: 0.7960\n",
      "Epoch 91/200\n",
      "500/500 [==============================] - 0s 97us/step - loss: 0.3378 - acc: 0.7920\n",
      "Epoch 92/200\n",
      "500/500 [==============================] - 0s 89us/step - loss: 0.3354 - acc: 0.7940\n",
      "Epoch 93/200\n",
      "500/500 [==============================] - 0s 118us/step - loss: 0.3361 - acc: 0.7960\n",
      "Epoch 94/200\n",
      "500/500 [==============================] - 0s 246us/step - loss: 0.3365 - acc: 0.7940\n",
      "Epoch 95/200\n",
      "500/500 [==============================] - 0s 164us/step - loss: 0.3385 - acc: 0.7880\n",
      "Epoch 96/200\n",
      "500/500 [==============================] - 0s 81us/step - loss: 0.3314 - acc: 0.8000\n",
      "Epoch 97/200\n",
      "500/500 [==============================] - 0s 104us/step - loss: 0.3300 - acc: 0.8000\n",
      "Epoch 98/200\n",
      "500/500 [==============================] - 0s 107us/step - loss: 0.3305 - acc: 0.7940\n",
      "Epoch 99/200\n",
      "500/500 [==============================] - 0s 189us/step - loss: 0.3349 - acc: 0.7960\n",
      "Epoch 100/200\n",
      "500/500 [==============================] - 0s 125us/step - loss: 0.3323 - acc: 0.7920\n",
      "Epoch 101/200\n",
      "500/500 [==============================] - 0s 89us/step - loss: 0.3359 - acc: 0.7940\n",
      "Epoch 102/200\n",
      "500/500 [==============================] - 0s 80us/step - loss: 0.3376 - acc: 0.7920\n",
      "Epoch 103/200\n",
      "500/500 [==============================] - 0s 84us/step - loss: 0.3317 - acc: 0.7940\n",
      "Epoch 104/200\n",
      "500/500 [==============================] - 0s 89us/step - loss: 0.3308 - acc: 0.8000\n",
      "Epoch 105/200\n",
      "500/500 [==============================] - 0s 78us/step - loss: 0.3395 - acc: 0.7900\n",
      "Epoch 106/200\n",
      "500/500 [==============================] - 0s 137us/step - loss: 0.3312 - acc: 0.7980\n",
      "Epoch 107/200\n",
      "500/500 [==============================] - 0s 168us/step - loss: 0.3308 - acc: 0.8000\n",
      "Epoch 108/200\n",
      "500/500 [==============================] - 0s 136us/step - loss: 0.3337 - acc: 0.7980\n",
      "Epoch 109/200\n",
      "500/500 [==============================] - 0s 89us/step - loss: 0.3328 - acc: 0.7960\n",
      "Epoch 110/200\n",
      "500/500 [==============================] - 0s 91us/step - loss: 0.3394 - acc: 0.7980\n",
      "Epoch 111/200\n",
      "500/500 [==============================] - 0s 96us/step - loss: 0.3468 - acc: 0.7880\n",
      "Epoch 112/200\n",
      "500/500 [==============================] - 0s 95us/step - loss: 0.3375 - acc: 0.7920\n",
      "Epoch 113/200\n",
      "500/500 [==============================] - 0s 107us/step - loss: 0.3328 - acc: 0.7980\n",
      "Epoch 114/200\n",
      "500/500 [==============================] - 0s 284us/step - loss: 0.3409 - acc: 0.7980\n",
      "Epoch 115/200\n",
      "500/500 [==============================] - 0s 121us/step - loss: 0.3430 - acc: 0.7920\n",
      "Epoch 116/200\n",
      "500/500 [==============================] - 0s 86us/step - loss: 0.3371 - acc: 0.7940\n",
      "Epoch 117/200\n",
      "500/500 [==============================] - 0s 95us/step - loss: 0.3384 - acc: 0.7880\n",
      "Epoch 118/200\n",
      "500/500 [==============================] - 0s 86us/step - loss: 0.3396 - acc: 0.7880\n",
      "Epoch 119/200\n",
      "500/500 [==============================] - 0s 181us/step - loss: 0.3348 - acc: 0.7980\n",
      "Epoch 120/200\n",
      "500/500 [==============================] - 0s 106us/step - loss: 0.3329 - acc: 0.7920\n",
      "Epoch 121/200\n",
      "500/500 [==============================] - 0s 113us/step - loss: 0.3322 - acc: 0.7920\n",
      "Epoch 122/200\n",
      "500/500 [==============================] - 0s 89us/step - loss: 0.3341 - acc: 0.7900\n",
      "Epoch 123/200\n",
      "500/500 [==============================] - 0s 89us/step - loss: 0.3363 - acc: 0.7920\n",
      "Epoch 124/200\n",
      "500/500 [==============================] - 0s 97us/step - loss: 0.3439 - acc: 0.7900\n",
      "Epoch 125/200\n",
      "500/500 [==============================] - 0s 92us/step - loss: 0.3303 - acc: 0.7940\n",
      "Epoch 126/200\n",
      "500/500 [==============================] - 0s 184us/step - loss: 0.3337 - acc: 0.7960\n",
      "Epoch 127/200\n",
      "500/500 [==============================] - 0s 92us/step - loss: 0.3372 - acc: 0.7940\n",
      "Epoch 128/200\n",
      "500/500 [==============================] - 0s 82us/step - loss: 0.3384 - acc: 0.7900\n",
      "Epoch 129/200\n",
      "500/500 [==============================] - 0s 82us/step - loss: 0.3321 - acc: 0.7980\n",
      "Epoch 130/200\n",
      "500/500 [==============================] - 0s 78us/step - loss: 0.3446 - acc: 0.7920\n",
      "Epoch 131/200\n",
      "500/500 [==============================] - 0s 90us/step - loss: 0.3327 - acc: 0.7920\n",
      "Epoch 132/200\n",
      "500/500 [==============================] - 0s 88us/step - loss: 0.3396 - acc: 0.7960\n",
      "Epoch 133/200\n",
      "500/500 [==============================] - 0s 79us/step - loss: 0.3664 - acc: 0.7840\n",
      "Epoch 134/200\n",
      "500/500 [==============================] - 0s 169us/step - loss: 0.3405 - acc: 0.7960\n",
      "Epoch 135/200\n",
      "500/500 [==============================] - 0s 282us/step - loss: 0.3316 - acc: 0.7940\n",
      "Epoch 136/200\n",
      "500/500 [==============================] - 0s 147us/step - loss: 0.3311 - acc: 0.7980\n",
      "Epoch 137/200\n",
      "500/500 [==============================] - 0s 96us/step - loss: 0.3352 - acc: 0.7940\n",
      "Epoch 138/200\n",
      "500/500 [==============================] - 0s 81us/step - loss: 0.3315 - acc: 0.7940\n",
      "Epoch 139/200\n",
      "500/500 [==============================] - 0s 106us/step - loss: 0.3310 - acc: 0.7960\n",
      "Epoch 140/200\n",
      "500/500 [==============================] - 0s 85us/step - loss: 0.3294 - acc: 0.7980\n",
      "Epoch 141/200\n",
      "500/500 [==============================] - 0s 86us/step - loss: 0.3338 - acc: 0.7900\n",
      "Epoch 142/200\n",
      "500/500 [==============================] - 0s 90us/step - loss: 0.3433 - acc: 0.7880\n",
      "Epoch 143/200\n",
      "500/500 [==============================] - 0s 76us/step - loss: 0.3318 - acc: 0.7940\n",
      "Epoch 144/200\n",
      "500/500 [==============================] - 0s 74us/step - loss: 0.3356 - acc: 0.7960\n",
      "Epoch 145/200\n",
      "500/500 [==============================] - 0s 74us/step - loss: 0.3316 - acc: 0.8000\n",
      "Epoch 146/200\n",
      "500/500 [==============================] - 0s 79us/step - loss: 0.3301 - acc: 0.8000\n",
      "Epoch 147/200\n",
      "500/500 [==============================] - 0s 75us/step - loss: 0.3297 - acc: 0.7980\n",
      "Epoch 148/200\n",
      "500/500 [==============================] - 0s 97us/step - loss: 0.3320 - acc: 0.7960\n",
      "Epoch 149/200\n",
      "500/500 [==============================] - 0s 140us/step - loss: 0.3386 - acc: 0.7900\n",
      "Epoch 150/200\n",
      "500/500 [==============================] - 0s 76us/step - loss: 0.3360 - acc: 0.7880\n",
      "Epoch 151/200\n",
      "500/500 [==============================] - 0s 100us/step - loss: 0.3403 - acc: 0.7920\n",
      "Epoch 152/200\n",
      "500/500 [==============================] - 0s 76us/step - loss: 0.3343 - acc: 0.7940\n",
      "Epoch 153/200\n",
      "500/500 [==============================] - 0s 84us/step - loss: 0.3328 - acc: 0.7960\n",
      "Epoch 154/200\n",
      "500/500 [==============================] - 0s 81us/step - loss: 0.3369 - acc: 0.7880\n",
      "Epoch 155/200\n",
      "500/500 [==============================] - 0s 80us/step - loss: 0.3336 - acc: 0.7940\n",
      "Epoch 156/200\n",
      "500/500 [==============================] - 0s 73us/step - loss: 0.3328 - acc: 0.7960\n",
      "Epoch 157/200\n",
      "500/500 [==============================] - 0s 119us/step - loss: 0.3322 - acc: 0.7940\n",
      "Epoch 158/200\n",
      "500/500 [==============================] - 0s 209us/step - loss: 0.3335 - acc: 0.7900\n",
      "Epoch 159/200\n",
      "500/500 [==============================] - 0s 176us/step - loss: 0.3301 - acc: 0.7980\n",
      "Epoch 160/200\n",
      "500/500 [==============================] - 0s 89us/step - loss: 0.3303 - acc: 0.7940\n",
      "Epoch 161/200\n",
      "500/500 [==============================] - 0s 87us/step - loss: 0.3402 - acc: 0.7940\n",
      "Epoch 162/200\n",
      "500/500 [==============================] - 0s 83us/step - loss: 0.3321 - acc: 0.7920\n",
      "Epoch 163/200\n",
      "500/500 [==============================] - 0s 133us/step - loss: 0.3400 - acc: 0.7920\n",
      "Epoch 164/200\n",
      "500/500 [==============================] - 0s 116us/step - loss: 0.3349 - acc: 0.7960\n",
      "Epoch 165/200\n",
      "500/500 [==============================] - 0s 90us/step - loss: 0.3373 - acc: 0.7900\n",
      "Epoch 166/200\n",
      "500/500 [==============================] - 0s 94us/step - loss: 0.3343 - acc: 0.7960\n",
      "Epoch 167/200\n",
      "500/500 [==============================] - 0s 86us/step - loss: 0.3322 - acc: 0.7900\n",
      "Epoch 168/200\n",
      "500/500 [==============================] - 0s 91us/step - loss: 0.3365 - acc: 0.7920\n",
      "Epoch 169/200\n",
      "500/500 [==============================] - 0s 80us/step - loss: 0.3332 - acc: 0.7860\n",
      "Epoch 170/200\n",
      "500/500 [==============================] - 0s 81us/step - loss: 0.3346 - acc: 0.7920\n",
      "Epoch 171/200\n",
      "500/500 [==============================] - 0s 79us/step - loss: 0.3328 - acc: 0.8020\n",
      "Epoch 172/200\n",
      "500/500 [==============================] - 0s 170us/step - loss: 0.3399 - acc: 0.7920\n",
      "Epoch 173/200\n",
      "500/500 [==============================] - 0s 101us/step - loss: 0.3463 - acc: 0.7880\n",
      "Epoch 174/200\n",
      "500/500 [==============================] - 0s 101us/step - loss: 0.3403 - acc: 0.7960\n",
      "Epoch 175/200\n",
      "500/500 [==============================] - 0s 81us/step - loss: 0.3435 - acc: 0.7920\n",
      "Epoch 176/200\n",
      "500/500 [==============================] - 0s 75us/step - loss: 0.3606 - acc: 0.7880\n",
      "Epoch 177/200\n",
      "500/500 [==============================] - 0s 77us/step - loss: 0.3351 - acc: 0.7920\n",
      "Epoch 178/200\n",
      "500/500 [==============================] - 0s 78us/step - loss: 0.3372 - acc: 0.7920\n",
      "Epoch 179/200\n",
      "500/500 [==============================] - 0s 79us/step - loss: 0.3375 - acc: 0.7880\n",
      "Epoch 180/200\n",
      "500/500 [==============================] - 0s 169us/step - loss: 0.3357 - acc: 0.7940\n",
      "Epoch 181/200\n",
      "500/500 [==============================] - 0s 132us/step - loss: 0.3310 - acc: 0.7920\n",
      "Epoch 182/200\n",
      "500/500 [==============================] - 0s 149us/step - loss: 0.3303 - acc: 0.7980\n",
      "Epoch 183/200\n",
      "500/500 [==============================] - 0s 115us/step - loss: 0.3297 - acc: 0.7980\n",
      "Epoch 184/200\n",
      "500/500 [==============================] - 0s 79us/step - loss: 0.3333 - acc: 0.7940\n",
      "Epoch 185/200\n",
      "500/500 [==============================] - 0s 77us/step - loss: 0.3345 - acc: 0.7940\n",
      "Epoch 186/200\n",
      "500/500 [==============================] - 0s 83us/step - loss: 0.3332 - acc: 0.7980\n",
      "Epoch 187/200\n",
      "500/500 [==============================] - 0s 187us/step - loss: 0.3307 - acc: 0.7960\n",
      "Epoch 188/200\n",
      "500/500 [==============================] - 0s 96us/step - loss: 0.3409 - acc: 0.7860\n",
      "Epoch 189/200\n",
      "500/500 [==============================] - 0s 87us/step - loss: 0.3319 - acc: 0.7960\n",
      "Epoch 190/200\n",
      "500/500 [==============================] - 0s 77us/step - loss: 0.3318 - acc: 0.7980\n",
      "Epoch 191/200\n",
      "500/500 [==============================] - 0s 90us/step - loss: 0.3370 - acc: 0.7980\n",
      "Epoch 192/200\n",
      "500/500 [==============================] - 0s 77us/step - loss: 0.3334 - acc: 0.7960\n",
      "Epoch 193/200\n",
      "500/500 [==============================] - 0s 80us/step - loss: 0.3319 - acc: 0.7980\n",
      "Epoch 194/200\n",
      "500/500 [==============================] - 0s 178us/step - loss: 0.3333 - acc: 0.7940\n",
      "Epoch 195/200\n",
      "500/500 [==============================] - 0s 254us/step - loss: 0.3336 - acc: 0.7900\n",
      "Epoch 196/200\n",
      "500/500 [==============================] - 0s 141us/step - loss: 0.3414 - acc: 0.7900\n",
      "Epoch 197/200\n",
      "500/500 [==============================] - 0s 100us/step - loss: 0.3371 - acc: 0.7960\n",
      "Epoch 198/200\n",
      "500/500 [==============================] - 0s 101us/step - loss: 0.3360 - acc: 0.7900\n",
      "Epoch 199/200\n",
      "500/500 [==============================] - 0s 87us/step - loss: 0.3347 - acc: 0.7900\n",
      "Epoch 200/200\n",
      "500/500 [==============================] - 0s 106us/step - loss: 0.3319 - acc: 0.7940\n"
     ]
    },
    {
     "data": {
      "text/plain": [
       "<keras.callbacks.History at 0x7f9f882f76d8>"
      ]
     },
     "execution_count": 49,
     "metadata": {},
     "output_type": "execute_result"
    }
   ],
   "source": [
    "model.fit(X, Y, nb_epoch=200, batch_size=30)"
   ]
  },
  {
   "cell_type": "markdown",
   "metadata": {},
   "source": [
    "# Step 7. Score the Mode"
   ]
  },
  {
   "cell_type": "code",
   "execution_count": 50,
   "metadata": {
    "collapsed": true
   },
   "outputs": [
    {
     "name": "stdout",
     "output_type": "stream",
     "text": [
      "500/500 [==============================] - 0s 58us/step\n",
      "acc: 79.60%\n"
     ]
    }
   ],
   "source": [
    "scores = model.evaluate(X, Y)\n",
    "print(\"%s: %.2f%%\" % (model.metrics_names[1], scores[1]*100))"
   ]
  },
  {
   "cell_type": "code",
   "execution_count": null,
   "metadata": {},
   "outputs": [],
   "source": []
  }
 ],
 "metadata": {
  "kernelspec": {
   "display_name": "Python 3",
   "language": "python",
   "name": "python3"
  },
  "language_info": {
   "codemirror_mode": {
    "name": "ipython",
    "version": 3
   },
   "file_extension": ".py",
   "mimetype": "text/x-python",
   "name": "python",
   "nbconvert_exporter": "python",
   "pygments_lexer": "ipython3",
   "version": "3.6.8"
  },
  "widgets": {
   "state": {},
   "version": "1.1.2"
  }
 },
 "nbformat": 4,
 "nbformat_minor": 2
}
